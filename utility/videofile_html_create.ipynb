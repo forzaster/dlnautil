{
 "cells": [
  {
   "cell_type": "markdown",
   "id": "06b1e35f",
   "metadata": {},
   "source": [
    "# DLNA file browsing html create notebook\n",
    "\n",
    "**This notebook does**\n",
    "- Get video files on network drive of NAS\n",
    "- Get video files via DLNA protocol\n",
    "- Map video files between network drive and DLNA\n",
    "- Create html files to browse video files with thumbnail\n",
    "\n",
    "**Preparation**\n",
    "- set environment variables\n",
    " - nas_mount_dir : mount path of NAS\n",
    " - html_thumb_folder : video thumbnail folder in web server\n",
    " - BASIC_USER : basic authentication user name for php\n",
    " - BASIC_PASSWD : basic authentication password for php\n",
    "- mount DLNA server as network drive"
   ]
  },
  {
   "cell_type": "markdown",
   "id": "d3bfd75c",
   "metadata": {},
   "source": [
    "# Initial setting"
   ]
  },
  {
   "cell_type": "code",
   "execution_count": null,
   "id": "b353f64f",
   "metadata": {},
   "outputs": [],
   "source": [
    "import pandas as pd\n",
    "import datetime\n",
    "import glob\n",
    "import os\n",
    "import sys\n",
    "from typing import List\n",
    "from tqdm import tqdm\n",
    "import warnings\n",
    "import subprocess\n",
    "from IPython.display import clear_output\n",
    "\n",
    "warnings.filterwarnings('ignore')"
   ]
  },
  {
   "cell_type": "code",
   "execution_count": null,
   "id": "0d96a838",
   "metadata": {},
   "outputs": [],
   "source": [
    "paths = ['../dlnautil']\n",
    "paths = [p for p in paths if p not in sys.path]\n",
    "sys.path.extend(paths)"
   ]
  },
  {
   "cell_type": "markdown",
   "id": "7fc181cb",
   "metadata": {},
   "source": [
    "# Setting from environment variables"
   ]
  },
  {
   "cell_type": "code",
   "execution_count": null,
   "id": "d2224e4d",
   "metadata": {},
   "outputs": [],
   "source": [
    "nas_mount_dir = os.environ['nas_mount_dir']\n",
    "nas_ip_address = os.environ['nas_ip_address']\n",
    "\n",
    "nas_mount_thumb_output_folder = os.environ['nas_mount_thumb_output_folder']\n",
    "html_thumb_folder = os.environ['html_thumb_folder']\n",
    "html_output_folder = './htmls'\n",
    "\n",
    "user = os.environ['BASIC_USER']\n",
    "pwd = os.environ['BASIC_PASSWD']"
   ]
  },
  {
   "cell_type": "markdown",
   "id": "0d4b1bc3",
   "metadata": {},
   "source": [
    "# Get file paths on NAS (Network Attached Storage)"
   ]
  },
  {
   "cell_type": "code",
   "execution_count": null,
   "id": "b6416b5a",
   "metadata": {},
   "outputs": [],
   "source": [
    "def get_files(dir_name: str, exts: List, level: int =0) -> dict:\n",
    "    #print(dir_name)\n",
    "    ret = {}\n",
    "    exts_ = {e.upper(): e for e in exts}\n",
    "    files = glob.glob(f'{dir_name}/*')\n",
    "    nlevel = level + 1\n",
    "    for i, f in enumerate(files):\n",
    "        if os.path.isdir(f):\n",
    "            files_dict = get_files(f, exts, nlevel)\n",
    "            for k, v in files_dict.items():\n",
    "                ret.setdefault(k, []).extend(v)\n",
    "        elif os.path.isfile(f):\n",
    "            ext = f.split('.')[-1].upper() if '.' in f else ''\n",
    "            if exts_.get(ext):\n",
    "                ret.setdefault(exts_.get(ext), []).append(f)\n",
    "        if level == 0:\n",
    "            print(f'{i+1}/{len(files)}')\n",
    "\n",
    "    return ret"
   ]
  },
  {
   "cell_type": "code",
   "execution_count": null,
   "id": "870a5e66",
   "metadata": {},
   "outputs": [],
   "source": [
    "files = get_files(nas_mount_dir, ['mp4', 'm2ts'])"
   ]
  },
  {
   "cell_type": "markdown",
   "id": "228cf125",
   "metadata": {},
   "source": [
    "# Create thumbnail"
   ]
  },
  {
   "cell_type": "code",
   "execution_count": null,
   "id": "f1fe85a6",
   "metadata": {},
   "outputs": [],
   "source": [
    "def create_thumb(filename, ext='mp4', ss=1, vframes=1):\n",
    "    result = None\n",
    "    out_filename = filename.replace(f'.{ext.upper()}', '.jpg').replace(f'.{ext}', '.jpg')\n",
    "    out_folder = out_filename.split('/')[-2]\n",
    "    out_folder = f'{nas_mount_thumb_output_folder}/{out_folder}'\n",
    "    out_filename = os.path.basename(out_filename)\n",
    "    out_filepath = f'{out_folder}/{out_filename}'\n",
    "    #print(filename)\n",
    "    #print(out_filepath)\n",
    "    if out_filepath.endswith('.jpg'):\n",
    "        if not os.path.exists(out_folder):\n",
    "            os.makedirs(out_folder, exist_ok=True)\n",
    "        if not os.path.exists(out_filepath):\n",
    "            print(out_filepath)\n",
    "            command = f'ffmpeg -i {filename} -ss {ss} -vframes {vframes} -s 320x180 {out_filepath}'\n",
    "            command = command.split(' ')\n",
    "            print(command)\n",
    "            result = subprocess.run(command)\n",
    "            print(result)\n",
    "            clear_output()\n",
    "            return out_filepath\n",
    "        \n",
    "    return None"
   ]
  },
  {
   "cell_type": "code",
   "execution_count": null,
   "id": "167f8881",
   "metadata": {},
   "outputs": [],
   "source": [
    "thumbnails = []\n",
    "for k, v in files.items():\n",
    "    for filepath in v:\n",
    "        thumb = create_thumb(filepath, ext='m2ts')\n",
    "        if thumb:\n",
    "            thumbnails.append(thumb)\n",
    "            #print(thumb)\n",
    "            #break\n",
    "\n",
    "len(thumbnails)"
   ]
  },
  {
   "cell_type": "markdown",
   "id": "e0748f9b",
   "metadata": {},
   "source": [
    "# Create file list"
   ]
  },
  {
   "cell_type": "code",
   "execution_count": null,
   "id": "5ca7bc52",
   "metadata": {},
   "outputs": [],
   "source": [
    "df_mp4 = pd.DataFrame(files['mp4'], columns=['path'])\n",
    "df_mp4['key'] = df_mp4['path'].map(lambda x: '.'.join(x.split('.')[:-1]))\n",
    "df_m2ts = pd.DataFrame(files['m2ts'], columns=['path'])\n",
    "df_m2ts['key'] = df_m2ts['path'].map(lambda x: '.'.join(x.split('.')[:-1]))\n",
    "\n",
    "df_files = pd.merge(df_m2ts, df_mp4, how='outer', on='key', suffixes=['_m2ts', '_mp4'])\n",
    "df_files['path'] = df_files['path_m2ts'].where(~df_files['path_m2ts'].isnull(), df_files['path_mp4'])\n",
    "df_files['stat'] = df_files['path'].map(os.stat)\n",
    "df_files"
   ]
  },
  {
   "cell_type": "code",
   "execution_count": null,
   "id": "e93e135f",
   "metadata": {},
   "outputs": [],
   "source": [
    "df_files['title'] = df_files['path'].map(os.path.basename)\n",
    "df_files['title'] = df_files['title'].map(lambda x: x.split('.'))\n",
    "\n",
    "df_files['ext'] = df_files['title'].map(lambda x: x[-1] if len(x) > 1 else '')\n",
    "df_files['title'] = df_files['title'].map(lambda x: '.'.join(x[:-1]) if len(x) > 1 else x)\n",
    "\n",
    "df_files['size'] = df_files['stat'].map(lambda x: x.st_size)\n",
    "df_files['atime'] = df_files['stat'].map(lambda x: datetime.datetime.fromtimestamp(x.st_atime))\n",
    "df_files['mtime'] = df_files['stat'].map(lambda x: datetime.datetime.fromtimestamp(x.st_mtime))\n",
    "df_files['ctime'] = df_files['stat'].map(lambda x: datetime.datetime.fromtimestamp(x.st_ctime))\n",
    "df_files = df_files.sort_values('path')\n",
    "df_files"
   ]
  },
  {
   "cell_type": "markdown",
   "id": "1bf47647",
   "metadata": {},
   "source": [
    "# Get DLNA ContentDirectory Media Server"
   ]
  },
  {
   "cell_type": "code",
   "execution_count": null,
   "id": "f39f872a",
   "metadata": {
    "scrolled": false
   },
   "outputs": [],
   "source": [
    "import importlib\n",
    "import content_browse\n",
    "import server_search\n",
    "importlib.reload(server_search)\n",
    "\n",
    "\n",
    "servers = server_search.search()\n",
    "servers"
   ]
  },
  {
   "cell_type": "code",
   "execution_count": null,
   "id": "8e147069",
   "metadata": {},
   "outputs": [],
   "source": [
    "servers[0].get_detail()"
   ]
  },
  {
   "cell_type": "code",
   "execution_count": null,
   "id": "7e8a03e5",
   "metadata": {},
   "outputs": [],
   "source": [
    "# choose server\n",
    "server = None\n",
    "for s in servers:\n",
    "    url = s.get_detail().get('url')\n",
    "    print(url)\n",
    "    if nas_ip_address not in url:\n",
    "        print('skip')\n",
    "        continue\n",
    "    server = s\n",
    "    stype = s.get_detail()['serviceType']\n",
    "    break"
   ]
  },
  {
   "cell_type": "markdown",
   "id": "fafa7b08",
   "metadata": {},
   "source": [
    "# DLNA Contents browsing (Get video files via DLNA)"
   ]
  },
  {
   "cell_type": "code",
   "execution_count": null,
   "id": "4a373195",
   "metadata": {},
   "outputs": [],
   "source": [
    "# root folder検索\n",
    "contents = content_browse.browse(url=url, st=stype)\n",
    "contents"
   ]
  },
  {
   "cell_type": "code",
   "execution_count": null,
   "id": "13726dc0",
   "metadata": {},
   "outputs": [],
   "source": [
    "# \"ビデオ\" を検索\n",
    "item = [c for c in contents if c['title'] == 'ビデオ'][0]\n",
    "items = content_browse.browse(url=url, st=stype, item_id=item['id'])\n",
    "items"
   ]
  },
  {
   "cell_type": "code",
   "execution_count": null,
   "id": "4c703496",
   "metadata": {},
   "outputs": [],
   "source": [
    "# \"全てのビデオ\" を検索\n",
    "item = [i for i in items if i['title'] == '全てのビデオ'][0]\n",
    "item_id = item['id']\n",
    "\n",
    "all_items = content_browse.browse(url=url, st=stype, item_id=item_id)\n",
    "df_dlna = pd.DataFrame(all_items)\n",
    "df_dlna"
   ]
  },
  {
   "cell_type": "code",
   "execution_count": null,
   "id": "f48e3199",
   "metadata": {},
   "outputs": [],
   "source": [
    "df_files['album'] = df_files['path'].map(lambda x: x.split('/')[-2])\n",
    "df_files['key'] = df_files['album'] + '/' + df_files['title']\n",
    "df_dlna['key'] = df_dlna['album'] + '/' + df_dlna['title']"
   ]
  },
  {
   "cell_type": "code",
   "execution_count": null,
   "id": "524b21fa",
   "metadata": {},
   "outputs": [],
   "source": [
    "df_all = pd.merge(df_dlna, df_files, how='left', on='key', suffixes=['_dlna', '_file'])\n",
    "df_all[~df_all['path'].isnull()]\n",
    "df_all = df_all[df_all['path'].str.startswith(nas_mount_dir).fillna(False)]\n",
    "df_all['year'] = df_all['date'].map(lambda x: x.split('-')[0])\n",
    "df_all = df_all.sort_values(['album_dlna', 'title_dlna', 'protocolInfo'])\n",
    "df_all"
   ]
  },
  {
   "cell_type": "code",
   "execution_count": null,
   "id": "c290846a",
   "metadata": {},
   "outputs": [],
   "source": [
    "df_all['mtime_dlna'] = df_all['modificationTime'].map(lambda x: datetime.datetime.fromtimestamp(int(x)))\n",
    "df_all['atime_dlna'] = df_all['addedTime'].map(lambda x: datetime.datetime.fromtimestamp(int(x)))\n",
    "df_all['utime_dlna'] = df_all['lastUpdated'].map(lambda x: datetime.datetime.fromtimestamp(int(x)))\n",
    "df_all['year'] = df_all['album_dlna'].map(lambda x: x[:4])\n",
    "df_all['month'] = df_all['album_dlna'].map(lambda x: x[5:7])\n",
    "# sort by protoclInfo and keep last (mt2s is prioritized than mp4)\n",
    "df_all = df_all.sort_values(['album_dlna', 'title_dlna', 'protocolInfo'])\n",
    "df_all = df_all.drop_duplicates(subset=['path'], keep='last')\n",
    "df_all"
   ]
  },
  {
   "cell_type": "markdown",
   "id": "2a3e14f6",
   "metadata": {},
   "source": [
    "# Create html"
   ]
  },
  {
   "cell_type": "markdown",
   "id": "9a8393a2",
   "metadata": {},
   "source": [
    "## Create html per year"
   ]
  },
  {
   "cell_type": "code",
   "execution_count": null,
   "id": "d3ead394",
   "metadata": {},
   "outputs": [],
   "source": [
    "html_template_1 = \"\"\"<?php\n",
    "switch(true) {\n",
    "  case !isset($_SERVER['PHP_AUTH_USER'], $_SERVER['PHP_AUTH_PW']):\n",
    "  case $_SERVER['PHP_AUTH_USER'] !== '{user}':\n",
    "  case $_SERVER['PHP_AUTH_PW'] !== '{pwd}':\n",
    "    header('WWW-Authenticate: Basic realm=\"Enter username/password.\"');\n",
    "    header('Content-Type: text/plain; charset=utf-8');\n",
    "    die('Private page. Need to login.');\n",
    "}\n",
    "\n",
    "header('Content-Type: text/html; charset=utf-8');\n",
    "?>\n",
    "\"\"\"\n",
    "\n",
    "html_item_template = \"\"\"\n",
    "<div class=\"grid_cell\">\n",
    "  <div class=\"grid_title\">{grid_title}</div>\n",
    "  <div class=\"grid_subtitle\">{resolution}/{ext}</div>\n",
    "  <div class=\"grid_subtitle2\">{duration}</div>\n",
    "  <a href=\"{url}\" target=\"_blank\" rel=\"noopener noreferrer\"><img class=\"grid_image\" src=\"{thumb}\"/></a>\n",
    "</div>\n",
    "\"\"\"\n",
    "\n",
    "html_year_template_1 = \"\"\"\n",
    "<html>\n",
    "<head>\n",
    "    <meta charset=\"UTF-8\">\n",
    "    <meta name = \"format-detection\" content = \"telephone=no\">    \n",
    "    <link href=\"https://fonts.googleapis.com/css?family=Anton rel=\"stylesheet\">\n",
    "    <link rel=\"stylesheet\" href=\"css.css\">\n",
    "    <title>{key}</title>\n",
    "    <script type=\"text/javascript\">\n",
    "      function initIcon() {{\n",
    "        var stop = document.getElementById(\"overlay_icon\");\n",
    "        stop.addEventListener('click', function() {{\n",
    "          console.log(\"click stop\");\n",
    "          var req = new XMLHttpRequest();\n",
    "          req.open(\"GET\", \"video_stop.php\", false);\n",
    "          req.send(null);\n",
    "          console.log(req.responseText);\n",
    "        }})\n",
    "      }}\n",
    "    </script>\n",
    "</head>\n",
    "\n",
    "<body onload=\"initIcon()\">\n",
    "<a href=\"index.php\">Top</a>{prev_year}{next_year}\n",
    "\"\"\"\n",
    "\n",
    "html_year_template_2 = \"\"\"\n",
    "</div>\n",
    "<p>\n",
    "<p>\n",
    "<div id=\"overlay_icon\"><img src=\"icons/stop.png\"/></div>\n",
    "<a href=\"index.php\">Top</a>{prev_year}{next_year}\n",
    "</body>\n",
    "</html>\n",
    "\"\"\""
   ]
  },
  {
   "cell_type": "code",
   "execution_count": null,
   "id": "b05a3c2e",
   "metadata": {
    "scrolled": false
   },
   "outputs": [],
   "source": [
    "import re\n",
    "\n",
    "def create_item(key, x):\n",
    "    url = x['res']\n",
    "    path = x['path']\n",
    "    title = x['title_dlna']\n",
    "    resolution = x['resolution']\n",
    "    ext = x['ext']\n",
    "    duration = x['duration']\n",
    "    album = x['album_dlna']\n",
    "    name = os.path.basename(path)\n",
    "    name = name.replace(f'.{ext}', '')\n",
    "    m = re.match('\\d{14}', name)\n",
    "    time_str = None\n",
    "    if m:\n",
    "        time_str = name[8:]\n",
    "    grid_title = f'{time_str[:2]}:{time_str[2:4]}:{time_str[4:6]}' if time_str else name\n",
    "    \n",
    "    if duration:\n",
    "        duration = duration.split('.')[0]\n",
    "\n",
    "    thumb = f'{html_thumb_folder}/{album}/{name}.jpg'\n",
    "    if ext.endswith('m2ts'):\n",
    "        url = f'./videoplay.html?title={grid_title}&duration={duration}&thumb={thumb}&url={url}'\n",
    "\n",
    "    return html_item_template \\\n",
    "            .replace('{grid_title}', grid_title) \\\n",
    "            .replace('{resolution}', resolution) \\\n",
    "            .replace('{duration}', duration) \\\n",
    "            .replace('{url}', url) \\\n",
    "            .replace('{thumb}', thumb)\n",
    "\n",
    "\n",
    "def create_year_html(key, group, years):\n",
    "    # print(key)\n",
    "    df = group.sort_values('title_dlna')\n",
    "\n",
    "    html_text = html_template_1.replace('{user}', user).replace('{pwd}', pwd)\n",
    "\n",
    "    year_idx = years.index(key) if key in years else None\n",
    "    prev_year = years[year_idx-1] if year_idx - 1 >= 0 else None\n",
    "    prev_year = f': <a href=\"{prev_year}.php\">{prev_year}</a>' if prev_year else ''\n",
    "    next_year = years[year_idx+1] if year_idx + 1 < len(years) else None\n",
    "    next_year = f': <a href=\"{next_year}.php\">{next_year}</a>' if next_year else ''\n",
    "    \n",
    "    html_text += html_year_template_1.replace('{key}', key)\\\n",
    "                                     .replace('{prev_year}', prev_year)\\\n",
    "                                     .replace('{next_year}', next_year)\n",
    "\n",
    "    for key2, group2 in df.groupby('album_dlna'):\n",
    "        html_text += f'<div class=\"title\">{key2}</div>\\n'\n",
    "        html_text += '<div class=\"grid\">'\n",
    "\n",
    "        df2 = group2.sort_values('title_dlna')\n",
    "        for i in range(len(df2)):\n",
    "            x = df2.iloc[i, :]\n",
    "            html_text += create_item(key, x)\n",
    "        \n",
    "        html_text += '</div>\\n'\n",
    "\n",
    "    html_text += html_year_template_2.replace('{prev_year}', prev_year)\\\n",
    "                                     .replace('{next_year}', next_year)\n",
    "    \n",
    "    phpfile = f'{html_output_folder}/{key}.php'\n",
    "    with open(phpfile, 'w', encoding='utf-8') as f:\n",
    "        f.write(html_text)\n",
    "    print(f'output {key}')\n",
    "    keys.append(key)\n",
    "\n",
    "\n",
    "###### main loop ######\n",
    "os.makedirs(html_output_folder, exist_ok=True)\n",
    "years = sorted(df_all['year'].unique().tolist())\n",
    "keys = []\n",
    "\n",
    "for key, group in df_all.groupby('year'):\n",
    "    create_year_html(key, group, years)\n"
   ]
  },
  {
   "cell_type": "markdown",
   "id": "50c04c6c",
   "metadata": {},
   "source": [
    "## Create html for top"
   ]
  },
  {
   "cell_type": "code",
   "execution_count": null,
   "id": "fde8b8b8",
   "metadata": {},
   "outputs": [],
   "source": [
    "html_top_item_template = \\\n",
    "\"\"\"    \n",
    "<div class=\"grid_cell\">\n",
    "    <div class=\"grid_title_large\">{k}</div>\n",
    "    <a href=\"{k}.php\" target=\"_blank\" rel=\"noopener noreferrer\"><img class=\"grid_image\" src=\"{html_thumb_folder}/{thumb}.jpg\"/></a>\n",
    "</div>\n",
    "\"\"\"\n",
    "\n",
    "html_top_template_1 = \\\n",
    "\"\"\"\n",
    "<html>\n",
    "<head>\n",
    "    <meta charset=\"UTF-8\">\n",
    "    <link href=\"https://fonts.googleapis.com/css?family=Anton rel=\"stylesheet\">\n",
    "    <link rel=\"stylesheet\" href=\"css.css\">\n",
    "    <title>Family Videos</title>\n",
    "</head>\n",
    "\n",
    "<body>\n",
    "<div class=\"title\">Family Videos</div>\n",
    "<div class=\"grid\">\n",
    "\"\"\"\n",
    "\n",
    "html_top_template_2 = \\\n",
    "\"\"\"\n",
    "</div>\n",
    "</body>\n",
    "</html>\n",
    "\"\"\""
   ]
  },
  {
   "cell_type": "code",
   "execution_count": null,
   "id": "58f31a7d",
   "metadata": {},
   "outputs": [],
   "source": [
    "import random\n",
    "\n",
    "html_text = html_template_1.replace('{user}', user).replace('{pwd}', pwd)\n",
    "html_text += html_top_template_1\n",
    "\n",
    "for k in keys:\n",
    "    # create year item\n",
    "    df_tmp = df_all[df_all['year'] == k]\n",
    "    item = df_tmp.iloc[random.randint(0, len(df_tmp))]\n",
    "    thumb = f'{item.album_dlna}/{item.title_dlna}'    \n",
    "    html_text += html_top_item_template.replace('{k}', k)\\\n",
    "                                       .replace('{html_thumb_folder}', html_thumb_folder)\\\n",
    "                                       .replace('{thumb}', thumb)\n",
    "\n",
    "html_text += html_top_template_2\n",
    "\n",
    "phpfile = f'{html_output_folder}/index.php'\n",
    "with open(phpfile, 'w', encoding='utf-8') as f:\n",
    "    f.write(html_text)\n",
    "print(f'output {phpfile}')"
   ]
  },
  {
   "cell_type": "code",
   "execution_count": null,
   "id": "d2d11ec3",
   "metadata": {},
   "outputs": [],
   "source": []
  }
 ],
 "metadata": {
  "kernelspec": {
   "display_name": "Python 3",
   "language": "python",
   "name": "python3"
  },
  "language_info": {
   "codemirror_mode": {
    "name": "ipython",
    "version": 3
   },
   "file_extension": ".py",
   "mimetype": "text/x-python",
   "name": "python",
   "nbconvert_exporter": "python",
   "pygments_lexer": "ipython3",
   "version": "3.8.13"
  }
 },
 "nbformat": 4,
 "nbformat_minor": 5
}
